{
  "cells": [
    {
      "cell_type": "markdown",
      "metadata": {
        "id": "Tce3stUlHN0L"
      },
      "source": [
        "##### Copyright 2024 Google LLC."
      ]
    },
    {
      "cell_type": "code",
      "execution_count": null,
      "metadata": {
        "cellView": "form",
        "id": "tuOe1ymfHZPu"
      },
      "outputs": [],
      "source": [
        "#@title Licensed under the Apache License, Version 2.0 (the \"License\");\n",
        "# you may not use this file except in compliance with the License.\n",
        "# You may obtain a copy of the License at\n",
        "#\n",
        "# https://www.apache.org/licenses/LICENSE-2.0\n",
        "#\n",
        "# Unless required by applicable law or agreed to in writing, software\n",
        "# distributed under the License is distributed on an \"AS IS\" BASIS,\n",
        "# WITHOUT WARRANTIES OR CONDITIONS OF ANY KIND, either express or implied.\n",
        "# See the License for the specific language governing permissions and\n",
        "# limitations under the License."
      ]
    },
    {
      "cell_type": "markdown",
      "metadata": {
        "id": "-QhPWE1lwZHH"
      },
      "source": [
        "# Gemini API Python quickstart"
      ]
    },
    {
      "cell_type": "markdown",
      "metadata": {
        "id": "fa7c47ae6451"
      },
      "source": [
        "<table class=\"tfo-notebook-buttons\" align=\"left\">\n",
        "  <td>\n",
        "    <a target=\"_blank\" href=\"https://ai.google.dev/tutorials/quickstart_colab\"><img src=\"https://ai.google.dev/static/site-assets/images/docs/notebook-site-button.png\" height=\"32\" width=\"32\" />View on Google AI</a>\n",
        "  </td>\n",
        "  <td>\n",
        "    <a target=\"_blank\" href=\"https://colab.research.google.com/github/google/generative-ai-docs/blob/main/site/en/tutorials/quickstart_colab.ipynb\"><img src=\"https://www.tensorflow.org/images/colab_logo_32px.png\" />Run in Google Colab</a>\n",
        "  </td>\n",
        "  <td>\n",
        "    <a target=\"_blank\" href=\"https://github.com/google/generative-ai-docs/blob/main/site/en/tutorials/quickstart_colab.ipynb\"><img src=\"https://www.tensorflow.org/images/GitHub-Mark-32px.png\" />View source on GitHub</a>\n",
        "  </td>\n",
        "</table>"
      ]
    },
    {
      "cell_type": "markdown",
      "metadata": {
        "id": "db29b8d4247e"
      },
      "source": [
        "This tutorial shows you how to get started with the Gemini API using the Python SDK."
      ]
    },
    {
      "cell_type": "markdown",
      "metadata": {
        "id": "NNNg43Ymw54e"
      },
      "source": [
        "## Prerequisites\n",
        "\n",
        "You can run this tutorial in Google Colab, which doesn't require additional environment configuration.\n",
        "\n",
        "Alternatively, to complete this quickstart locally, see the Python guidance in [Get started with the Gemini API](https://ai.google.dev/tutorials/quickstart)."
      ]
    },
    {
      "cell_type": "markdown",
      "metadata": {
        "id": "kHkHARdb1ZID"
      },
      "source": [
        "## Install the SDK\n",
        "\n",
        "The Python SDK for the Gemini API is contained in the [`google-generativeai`](https://pypi.org/project/google-generativeai/) package. Install the dependency using pip:"
      ]
    },
    {
      "cell_type": "code",
      "execution_count": 2,
      "metadata": {
        "id": "J6Pd9SFJ1yVi"
      },
      "outputs": [],
      "source": [
        "!pip install -q -U google-generativeai"
      ]
    },
    {
      "cell_type": "markdown",
      "metadata": {
        "id": "EeMCtmx9ykyx"
      },
      "source": [
        "## Set up your API key\n",
        "\n",
        "To use the Gemini API, you'll need an API key. If you don't already have one, create a key in Google AI Studio.\n",
        "\n",
        "<a class=\"button\" href=\"https://aistudio.google.com/app/apikey\" target=\"_blank\" rel=\"noopener noreferrer\">Get an API key</a>\n",
        "\n",
        "In Colab, add the key to the secrets manager under the \"🔑\" in the left panel. Give it the name `GOOGLE_API_KEY`. Then pass the key to the SDK:"
      ]
    },
    {
      "cell_type": "code",
      "execution_count": 3,
      "metadata": {
        "id": "HTiaTu6O1LRC"
      },
      "outputs": [],
      "source": [
        "# Import the Python SDK\n",
        "import google.generativeai as genai\n",
        "# Used to securely store your API key\n",
        "from google.colab import userdata\n",
        "\n",
        "GOOGLE_API_KEY=userdata.get('GOOGLE_API_KEY')\n",
        "genai.configure(api_key=GOOGLE_API_KEY)"
      ]
    },
    {
      "cell_type": "markdown",
      "metadata": {
        "id": "CZPYk29o2No0"
      },
      "source": [
        "## Initialize the Generative Model\n",
        "\n",
        "Before you can make any API calls, you need to initialize the Generative Model."
      ]
    },
    {
      "cell_type": "code",
      "execution_count": 4,
      "metadata": {
        "id": "s-JqXcDe2hZ_"
      },
      "outputs": [],
      "source": [
        "model = genai.GenerativeModel('gemini-pro')"
      ]
    },
    {
      "cell_type": "markdown",
      "metadata": {
        "id": "nXxypzJH4MUl"
      },
      "source": [
        "## Generate text"
      ]
    },
    {
      "cell_type": "code",
      "execution_count": 5,
      "metadata": {
        "id": "j51mcrLD4Y2W",
        "outputId": "dfd63922-717f-4a02-e22b-f3e5ba674a7a",
        "colab": {
          "base_uri": "https://localhost:8080/",
          "height": 905
        }
      },
      "outputs": [
        {
          "output_type": "stream",
          "name": "stdout",
          "text": [
            "**Lesson 1: Getting Acquainted**\n",
            "\n",
            "**Conversational Script:**\n",
            "\n",
            "**Teacher:** Hello everyone, welcome to the first lesson of our Arabic course. Today we will be learning how to identify and name common objects around us.\n",
            "\n",
            "**Student 1:** Hello, teacher. I'm excited to learn Arabic.\n",
            "\n",
            "**Teacher:** That's great! Let's get started.\n",
            "\n",
            "**Teacher:** (Points to a door) This is a door. In Arabic, we call it بابٌ (baabun).\n",
            "\n",
            "**Student 1:** بابٌ (baabun).\n",
            "\n",
            "**Teacher:** Very good. (Points to a mosque) This is a mosque. In Arabic, we call it مسجدٌ (masjidun).\n",
            "\n",
            "**Student 2:** مسجدٌ (masjidun).\n",
            "\n",
            "**Teacher:** (Points to a house) This is a house. In Arabic, we call it بيتٌ (baytun).\n",
            "\n",
            "**Student 3:** بيتٌ (baytun).\n",
            "\n",
            "**Teacher:** Now, let's practice some more. What is this? (Points to a book)\n",
            "\n",
            "**Student 1:** كتابٌ (kitaabun).\n",
            "\n",
            "**Teacher:** Excellent! What about this? (Points to a pen)\n",
            "\n",
            "**Student 2:** قلمٌ (qalamun).\n",
            "\n",
            "**Teacher:** Perfect. And what is this? (Points to a key)\n",
            "\n",
            "**Student 3:** مفتاحٌ (miftaahun).\n",
            "\n",
            "**Teacher:** Very good. Now, let's ask some questions. How do we say \"What is this?\" in Arabic?\n",
            "\n",
            "**Student 1:** ما هذا (maa hadhaa)?\n",
            "\n",
            "**Teacher:** Correct. And how do we say \"Is this a house?\"\n",
            "\n",
            "**Student 2:** أهذا بيتٌ (a-hadhaa baytun)?\n",
            "\n",
            "**Teacher:** Fantastic! You're all doing great. Let's continue practicing.\n",
            "\n",
            "**Additional Questions for Conversation:**\n",
            "\n",
            "* How are you today? (كيف حالك اليوم؟ (kayfa haaluka l-yawm\n",
            "* Are you a student? (أنت طالبٌ؟ (antaa taalibun\n",
            "* What is your name? (ما اسمك؟ (maa ismuka\n",
            "* I'm from Saudi Arabia. (أنا من السعودية. (anaa min as-suu'uu'diyah\n"
          ]
        }
      ],
      "source": [
        "response = model.generate_content(\"\"\"you are an arabic tutor\n",
        "i want you to make a course for beginners to learn arabic based on the madinah arabic reader\n",
        "it has 10 lessons\n",
        "i want you to prepare a conversational script for lesson1\n",
        "this is the text from lesson 1\n",
        "                                                                 الأَوَّلُ الدَّرْسُ    )  ١ (\n",
        "                                                                    ـــــذا\n",
        "                                بَابٌ هذا                            مَسْجِدٌ    هذا                         بَيْتُ   هذا\n",
        "                                   0                                                                                 فقال\n",
        "                                                                                                                 البرية\n",
        "                                . مِفْتَاحُ هذا                         قَلَمُ  هذا                        .كِتَابٌ    هذا\n",
        "                                . كُرْسِيُّ  هذا                     . سَرِيرُ   هذا                       مَكْتَبٌ   هذا\n",
        "\n",
        "\n",
        "################################################################################################################################################################\n",
        "\n",
        "                                                           ؟ هـــــــذا     ما\n",
        "                                                                                                 ؟ هذا     ما\n",
        "                                                                                               بَيْتُ هذا\n",
        "                                                                                            ؟ بَيْتُ   أَهذا\n",
        "                                                                                    . بَيْتُ  هَذا    ، نَعَمْ\n",
        "                                                                                                ؟ هذا      ما\n",
        "                                                                                          . قَمِيصُ    هذا\n",
        "                                                                                            سرير أهذا\n",
        "                                                                                           ؟\n",
        "                                                                                      . كُرْسِيُّ هذا     ، لا\n",
        "                                                                                         ؟ مِفْتَاحُ  أَهذا\n",
        "                                                                                         . قَلَمٌ هذا     ، لا\n",
        "                                                                                                ؟ هذا      ما\n",
        "                                                                                              . نَجْمُ  هذا\n",
        "                                                                  _1_\n",
        "\n",
        "\n",
        "################################################################################################################################################################\n",
        "\n",
        "                                                                 ) ۱ (\n",
        "                                                       0                                                ؟ هذا      ما\n",
        "                                                 فضال                                                   ؟ هذا      ما\n",
        "                                             المدينة\n",
        "                                                                                                       ؟ هذا       ما\n",
        "                                                                                                       ؟ هذا      ما\n",
        "                                                                                                       ؟ هذا      ما\n",
        "                                          E                                                            ؟  هذا     ما\n",
        "                                                                      _V_\n",
        "\n",
        "\n",
        "################################################################################################################################################################\n",
        "\n",
        "                                                               ) ۲ (\n",
        "                                                                                                 ؟ بَيْتُ    أهذا\n",
        "                                                                                               ؟ مِفْتَاحُ   أهذا\n",
        "                                                                                              ؟ قَمِيصُ      أهذا\n",
        "                                     *                                                          ؟  نجم       أهذا\n",
        "\n",
        "\n",
        "################################################################################################################################################################\n",
        "\n",
        "                                                        ) ۳ (\n",
        "                                                                                     وَاكْتُبْ اِقْرَأْ\n",
        "                                    . قلم   هذا        . مسجد      هذا             .مكتب    هذا\n",
        "                                 . كرسي     هذا          ؟  هذا       ما          .سرير     هذا\n",
        "                             مفتاح هذا    ؟هذا  ما   . مسجد     هذا    لا        ؟  بيت    أهذا\n",
        "                                                    ؟ هذا           مَنْ\n",
        "                                              ؟ هذا     مَنْ                           ؟ هذا    مَنْ\n",
        "                                               . وَلَدٌهذا                            طَبِيبٌ  هذا\n",
        "                                             ؟ وَلَدُ أَهذا                            ؟ هذا     مَنْ\n",
        "                                        . رَجُلٌ  هذا     ،لا                        .طَالِبٌ   هذا\n",
        "\n",
        "\n",
        "################################################################################################################################################################\n",
        "\n",
        "                                                                           . مَسْجِدٌ   هذا     ؟  هذا     ما\n",
        "                                                                           . تَاجِرٌ هذا      ؟ هذا     مَنْ\n",
        "                                                                                            . كَلْبٌ   هذا\n",
        "                                 buy       li\n",
        "                                                                                          ؟ كَلْتُ    أهذا\n",
        "                                                                                           قط هذا         ، لا\n",
        "                                                                                              حمارٌ هذا\n",
        "                                                                                              .\n",
        "                                                                                            ؟ حارٌ     أهذا\n",
        "                                                                                      حِصَانُ هذا         ، لا\n",
        "                                                       WIG\n",
        "                                                                                               ؟ هذا     وَمَا\n",
        "                                                                                              . جَمَلٌ  هذا\n",
        "\n",
        "\n",
        "################################################################################################################################################################\n",
        "\n",
        "                                                                                                  ؟ هذا      ما\n",
        "                                                                                               . دِيكُ   هذا\n",
        "                                                الأول الدرس\n",
        "                                                      خير به الله يرد\n",
        "                                                   استه   من\n",
        "                                                                                                ؟ هذا     مَنْ\n",
        "                                                                                            . مُدَرِّسُ  هذا\n",
        "                                                                                               قميص أهذا\n",
        "                                                                                            ؟ قَمِيْصٌ\n",
        "                                                                                         منديل هذا          ، لا\n",
        "                                                                                                              ،\n",
        "                                                                                             وَاكْتُبْ اقْرَأْ\n",
        "                                         كلب هذا            ) ۲(                .قلم   هذا  ؟ هذا   ما ) ۱ (\n",
        "                                         . جمل      هذا     )٤ (           . طبيب    هذا   ؟ هذا  من   )۳  (\n",
        "                                     . نعم   ؟ديك    أهذا   )٦ (      . قط  هذا   ، لا  ؟كلب    أهذا   ) 5(\n",
        "                                       . منديل      هذا     )۸ (    حمار  هذا   ، لا ؟ حصان     أهذا   (۷  )\n",
        "                                . رجل   هذا   ؟ هذا  من  ) ۱۰  (                  . نعم   ؟ولد  أهذا   )۹ (\n",
        "                                                                  - ۱۱\n",
        "include translation in every script\n",
        "also make it better by adding how are you\n",
        "today we will be learning ...\n",
        "and clearly a beginner doesnt know arabic so you might want to go by se this is a door\n",
        "in arabic we call it بابٌ ...\"\"\")\n",
        "print(response.text)"
      ]
    },
    {
      "cell_type": "code",
      "source": [
        "pip install --upgrade Pillow"
      ],
      "metadata": {
        "id": "PRmFrL9EwqGv",
        "outputId": "f87b6683-cd82-4cdf-aee3-1e248def7c41",
        "colab": {
          "base_uri": "https://localhost:8080/",
          "height": 304
        }
      },
      "execution_count": 6,
      "outputs": [
        {
          "output_type": "stream",
          "name": "stdout",
          "text": [
            "Requirement already satisfied: Pillow in /usr/local/lib/python3.10/dist-packages (10.4.0)\n",
            "Collecting Pillow\n",
            "  Downloading pillow-11.0.0-cp310-cp310-manylinux_2_28_x86_64.whl.metadata (9.1 kB)\n",
            "Downloading pillow-11.0.0-cp310-cp310-manylinux_2_28_x86_64.whl (4.4 MB)\n",
            "\u001b[2K   \u001b[90m━━━━━━━━━━━━━━━━━━━━━━━━━━━━━━━━━━━━━━━━\u001b[0m \u001b[32m4.4/4.4 MB\u001b[0m \u001b[31m20.7 MB/s\u001b[0m eta \u001b[36m0:00:00\u001b[0m\n",
            "\u001b[?25hInstalling collected packages: Pillow\n",
            "  Attempting uninstall: Pillow\n",
            "    Found existing installation: pillow 10.4.0\n",
            "    Uninstalling pillow-10.4.0:\n",
            "      Successfully uninstalled pillow-10.4.0\n",
            "Successfully installed Pillow-11.0.0\n"
          ]
        },
        {
          "output_type": "display_data",
          "data": {
            "application/vnd.colab-display-data+json": {
              "pip_warning": {
                "packages": [
                  "PIL"
                ]
              },
              "id": "2bb7d1947bf74cd9a31d2051fa9325a0"
            }
          },
          "metadata": {}
        }
      ]
    },
    {
      "cell_type": "code",
      "source": [
        "import os\n",
        "import google.generativeai as genai\n",
        "\n",
        "genai.configure(api_key=os.environ['API_KEY'])\n",
        "\n",
        "imagen = genai.ImageGenerationModel(\"imagen-3.0-generate-001\")\n",
        "\n",
        "result = imagen.generate_images(\n",
        "    prompt=\"Fuzzy bunnies in my kitchen\",\n",
        "    number_of_images=4,\n",
        "    safety_filter_level=\"block_only_high\",\n",
        "    person_generation=\"allow_adult\",\n",
        "    aspect_ratio=\"3:4\",\n",
        "    negative_prompt=\"Outside\",\n",
        ")\n",
        "\n",
        "for image in result.images:\n",
        "  print(image)\n",
        "\n",
        "# The output should look similar to this:\n",
        "# <vertexai.preview.vision_models.GeneratedImage object at 0x78f3396ef370>\n",
        "# <vertexai.preview.vision_models.GeneratedImage object at 0x78f3396ef700>\n",
        "# <vertexai.preview.vision_models.GeneratedImage object at 0x78f33953c2b0>\n",
        "# <vertexai.preview.vision_models.GeneratedImage object at 0x78f33953c280>\n",
        "\n",
        "for image in result.images:\n",
        "  # Open and display the image using your local operating system.\n",
        "  image._pil_image.show()"
      ],
      "metadata": {
        "id": "ng__B_xbLL7L"
      },
      "execution_count": null,
      "outputs": []
    },
    {
      "cell_type": "code",
      "source": [
        "model = genai.GenerativeModel(\"models/gemini-1.5-flash\")\n",
        "\n",
        "chat = model.start_chat(\n",
        "    history=[\n",
        "        {\"role\": \"user\", \"parts\": \"Hi my name is Bob\"},\n",
        "        {\"role\": \"model\", \"parts\": \"Hi Bob!\"},\n",
        "    ]\n",
        ")\n",
        "# Call `count_tokens` to get the input token count (`total_tokens`).\n",
        "print(model.count_tokens(chat.history))\n",
        "# ( total_tokens: 10 )\n",
        "\n",
        "response = chat.send_message(\n",
        "    \"In one sentence, explain how a computer works to a young child.\"\n",
        ")\n",
        "\n",
        "# On the response for `send_message`, use `usage_metadata`\n",
        "# to get separate input and output token counts\n",
        "# (`prompt_token_count` and `candidates_token_count`, respectively),\n",
        "# as well as the combined token count (`total_token_count`).\n",
        "print(response.usage_metadata)\n",
        "# ( prompt_token_count: 25, candidates_token_count: 21, total_token_count: 46 )\n",
        "\n",
        "from google.generativeai.types.content_types import to_contents\n",
        "\n",
        "# You can call `count_tokens` on the combined history and content of the next turn.\n",
        "print(model.count_tokens(chat.history + to_contents(\"What is the meaning of life?\")))\n",
        "# ( total_tokens: 56 )"
      ],
      "metadata": {
        "id": "zed5iYAcL2lt"
      },
      "execution_count": null,
      "outputs": []
    },
    {
      "cell_type": "markdown",
      "metadata": {
        "id": "zUUAQS9u4biH"
      },
      "source": [
        "## What's next\n",
        "\n",
        "To learn more about working with the Gemini API, see the [Python tutorial](https://ai.google.dev/tutorials/python_quickstart).\n",
        "\n",
        "If you're new to generative AI models, you might want to look at the\n",
        "[concepts guide](https://ai.google.dev/docs/concepts) and the\n",
        "[Gemini API overview](https://ai.google.dev/docs/gemini_api_overview)."
      ]
    }
  ],
  "metadata": {
    "colab": {
      "name": "quickstart_colab.ipynb",
      "toc_visible": true,
      "provenance": []
    },
    "kernelspec": {
      "display_name": "Python 3",
      "name": "python3"
    }
  },
  "nbformat": 4,
  "nbformat_minor": 0
}